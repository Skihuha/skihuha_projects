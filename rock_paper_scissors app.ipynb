{
 "cells": [
  {
   "cell_type": "code",
   "execution_count": 1,
   "id": "dc0afb8a",
   "metadata": {},
   "outputs": [],
   "source": [
    "import random"
   ]
  },
  {
   "cell_type": "code",
   "execution_count": 2,
   "id": "cbc4b516",
   "metadata": {},
   "outputs": [],
   "source": [
    "choices=[\"rock\",\"paper\",\"scissors\"]\n",
    "computer=random.choice(choices)\n",
    "player=False\n",
    "comp_score=0\n",
    "player_score=0\n",
    "##defining variables"
   ]
  },
  {
   "cell_type": "code",
   "execution_count": null,
   "id": "4f4c949a",
   "metadata": {},
   "outputs": [],
   "source": [
    "while True:\n",
    "    player=input(\"rock, paper or scissors\").capitalize()\n",
    "    if player == computer:\n",
    "        print (\"tie tie\")\n",
    "    elif player == \"rock\":\n",
    "        if computer == \"paper\":\n",
    "            print(\"loser loser\")\n",
    "            comp_score+=1\n",
    "        else:\n",
    "            print(\"you win\")\n",
    "            player_score=1\n",
    "    elif player == \"scissors\":\n",
    "        if computer==\"rock\":\n",
    "            print(\"loser loser\")\n",
    "            comp_score+=1\n",
    "        else:\n",
    "            print(\"you win mzito\")\n",
    "            player_score+=1 \n",
    "    elif player == \"paper\":\n",
    "        if computer==\"scissors\":\n",
    "            print (\"loser loser\")\n",
    "            comp_score+=1\n",
    "        else:\n",
    "             print(\"win win mzito\")\n",
    "             player_score+=1 \n",
    "    elif player == 'End':\n",
    "        print (\"final scores\")\n",
    "        print(f\"CPU:{comp_score}\")\n",
    "        print(f\"Plaer:{player_score}\")\n",
    "        break      \n",
    "        "
   ]
  }
 ],
 "metadata": {
  "kernelspec": {
   "display_name": "base",
   "language": "python",
   "name": "python3"
  },
  "language_info": {
   "codemirror_mode": {
    "name": "ipython",
    "version": 3
   },
   "file_extension": ".py",
   "mimetype": "text/x-python",
   "name": "python",
   "nbconvert_exporter": "python",
   "pygments_lexer": "ipython3",
   "version": "3.12.7"
  }
 },
 "nbformat": 4,
 "nbformat_minor": 5
}
